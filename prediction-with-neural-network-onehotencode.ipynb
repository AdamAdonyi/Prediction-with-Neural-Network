{
 "cells": [
  {
   "cell_type": "raw",
   "id": "752fc91a",
   "metadata": {
    "_cell_guid": "b1076dfc-b9ad-4769-8c92-a6c4dae69d19",
    "_uuid": "8f2839f25d086af736a60e9eeb907d3b93b6e0e5",
    "papermill": {
     "duration": 0.007128,
     "end_time": "2023-03-08T12:45:55.221048",
     "exception": false,
     "start_time": "2023-03-08T12:45:55.213920",
     "status": "completed"
    },
    "tags": []
   },
   "source": [
    "# This Python 3 environment comes with many helpful analytics libraries installed\n",
    "# It is defined by the kaggle/python Docker image: https://github.com/kaggle/docker-python\n",
    "# For example, here's several helpful packages to load\n",
    "\n",
    "import numpy as np # linear algebra\n",
    "import pandas as pd # data processing, CSV file I/O (e.g. pd.read_csv)\n",
    "\n",
    "# Input data files are available in the read-only \"../input/\" directory\n",
    "# For example, running this (by clicking run or pressing Shift+Enter) will list all files under the input directory\n",
    "\n",
    "import os\n",
    "for dirname, _, filenames in os.walk('/kaggle/input'):\n",
    "    for filename in filenames:\n",
    "        print(os.path.join(dirname, filename))\n",
    "\n",
    "# You can write up to 20GB to the current directory (/kaggle/working/) that gets preserved as output when you create a version using \"Save & Run All\" \n",
    "# You can also write temporary files to /kaggle/temp/, but they won't be saved outside of the current session"
   ]
  },
  {
   "cell_type": "code",
   "execution_count": 1,
   "id": "3daba575",
   "metadata": {
    "execution": {
     "iopub.execute_input": "2023-03-08T12:45:55.236098Z",
     "iopub.status.busy": "2023-03-08T12:45:55.234668Z",
     "iopub.status.idle": "2023-03-08T12:46:04.912313Z",
     "shell.execute_reply": "2023-03-08T12:46:04.910862Z"
    },
    "papermill": {
     "duration": 9.688473,
     "end_time": "2023-03-08T12:46:04.915595",
     "exception": false,
     "start_time": "2023-03-08T12:45:55.227122",
     "status": "completed"
    },
    "tags": []
   },
   "outputs": [],
   "source": [
    "#prep environment \n",
    "import pandas as pd\n",
    "import matplotlib.pyplot as plt\n",
    "import tensorflow as tf\n",
    "import matplotlib.pyplot as plt\n",
    "from sklearn.metrics import mean_absolute_error, r2_score\n",
    "from sklearn.compose import make_column_transformer \n",
    "from sklearn.preprocessing import MinMaxScaler, OneHotEncoder \n",
    "from sklearn.model_selection import train_test_split"
   ]
  },
  {
   "cell_type": "markdown",
   "id": "9d5a6a7e",
   "metadata": {
    "papermill": {
     "duration": 0.005643,
     "end_time": "2023-03-08T12:46:04.927386",
     "exception": false,
     "start_time": "2023-03-08T12:46:04.921743",
     "status": "completed"
    },
    "tags": []
   },
   "source": [
    "Data load and check it out"
   ]
  },
  {
   "cell_type": "code",
   "execution_count": 2,
   "id": "7f056eb5",
   "metadata": {
    "execution": {
     "iopub.execute_input": "2023-03-08T12:46:04.941910Z",
     "iopub.status.busy": "2023-03-08T12:46:04.941049Z",
     "iopub.status.idle": "2023-03-08T12:46:04.996142Z",
     "shell.execute_reply": "2023-03-08T12:46:04.994848Z"
    },
    "papermill": {
     "duration": 0.06606,
     "end_time": "2023-03-08T12:46:04.999417",
     "exception": false,
     "start_time": "2023-03-08T12:46:04.933357",
     "status": "completed"
    },
    "tags": []
   },
   "outputs": [
    {
     "data": {
      "text/html": [
       "<div>\n",
       "<style scoped>\n",
       "    .dataframe tbody tr th:only-of-type {\n",
       "        vertical-align: middle;\n",
       "    }\n",
       "\n",
       "    .dataframe tbody tr th {\n",
       "        vertical-align: top;\n",
       "    }\n",
       "\n",
       "    .dataframe thead th {\n",
       "        text-align: right;\n",
       "    }\n",
       "</style>\n",
       "<table border=\"1\" class=\"dataframe\">\n",
       "  <thead>\n",
       "    <tr style=\"text-align: right;\">\n",
       "      <th></th>\n",
       "      <th>age</th>\n",
       "      <th>sex</th>\n",
       "      <th>bmi</th>\n",
       "      <th>children</th>\n",
       "      <th>smoker</th>\n",
       "      <th>region</th>\n",
       "      <th>charges</th>\n",
       "      <th>insuranceclaim</th>\n",
       "    </tr>\n",
       "  </thead>\n",
       "  <tbody>\n",
       "    <tr>\n",
       "      <th>0</th>\n",
       "      <td>19</td>\n",
       "      <td>0</td>\n",
       "      <td>27.900</td>\n",
       "      <td>0</td>\n",
       "      <td>1</td>\n",
       "      <td>3</td>\n",
       "      <td>16884.92400</td>\n",
       "      <td>1</td>\n",
       "    </tr>\n",
       "    <tr>\n",
       "      <th>1</th>\n",
       "      <td>18</td>\n",
       "      <td>1</td>\n",
       "      <td>33.770</td>\n",
       "      <td>1</td>\n",
       "      <td>0</td>\n",
       "      <td>2</td>\n",
       "      <td>1725.55230</td>\n",
       "      <td>1</td>\n",
       "    </tr>\n",
       "    <tr>\n",
       "      <th>2</th>\n",
       "      <td>28</td>\n",
       "      <td>1</td>\n",
       "      <td>33.000</td>\n",
       "      <td>3</td>\n",
       "      <td>0</td>\n",
       "      <td>2</td>\n",
       "      <td>4449.46200</td>\n",
       "      <td>0</td>\n",
       "    </tr>\n",
       "    <tr>\n",
       "      <th>3</th>\n",
       "      <td>33</td>\n",
       "      <td>1</td>\n",
       "      <td>22.705</td>\n",
       "      <td>0</td>\n",
       "      <td>0</td>\n",
       "      <td>1</td>\n",
       "      <td>21984.47061</td>\n",
       "      <td>0</td>\n",
       "    </tr>\n",
       "    <tr>\n",
       "      <th>4</th>\n",
       "      <td>32</td>\n",
       "      <td>1</td>\n",
       "      <td>28.880</td>\n",
       "      <td>0</td>\n",
       "      <td>0</td>\n",
       "      <td>1</td>\n",
       "      <td>3866.85520</td>\n",
       "      <td>1</td>\n",
       "    </tr>\n",
       "  </tbody>\n",
       "</table>\n",
       "</div>"
      ],
      "text/plain": [
       "   age  sex     bmi  children  smoker  region      charges  insuranceclaim\n",
       "0   19    0  27.900         0       1       3  16884.92400               1\n",
       "1   18    1  33.770         1       0       2   1725.55230               1\n",
       "2   28    1  33.000         3       0       2   4449.46200               0\n",
       "3   33    1  22.705         0       0       1  21984.47061               0\n",
       "4   32    1  28.880         0       0       1   3866.85520               1"
      ]
     },
     "execution_count": 2,
     "metadata": {},
     "output_type": "execute_result"
    }
   ],
   "source": [
    "#load data and check out\n",
    "insurance =pd.read_csv(\"/kaggle/input/sample-insurance-claim-prediction-dataset/insurance2.csv\")\n",
    "insurance.head()\n",
    "\n"
   ]
  },
  {
   "cell_type": "markdown",
   "id": "df8de15d",
   "metadata": {
    "papermill": {
     "duration": 0.005737,
     "end_time": "2023-03-08T12:46:05.011235",
     "exception": false,
     "start_time": "2023-03-08T12:46:05.005498",
     "status": "completed"
    },
    "tags": []
   },
   "source": [
    "Data preparation to fed into the model_1 and model_2 to compare models"
   ]
  },
  {
   "cell_type": "code",
   "execution_count": 3,
   "id": "b57b5fc6",
   "metadata": {
    "execution": {
     "iopub.execute_input": "2023-03-08T12:46:05.025735Z",
     "iopub.status.busy": "2023-03-08T12:46:05.024926Z",
     "iopub.status.idle": "2023-03-08T12:46:05.030711Z",
     "shell.execute_reply": "2023-03-08T12:46:05.029831Z"
    },
    "papermill": {
     "duration": 0.015911,
     "end_time": "2023-03-08T12:46:05.033194",
     "exception": false,
     "start_time": "2023-03-08T12:46:05.017283",
     "status": "completed"
    },
    "tags": []
   },
   "outputs": [],
   "source": [
    "#Create column transformer\n",
    "ct = make_column_transformer(\n",
    "    (MinMaxScaler(), [\"age\", \"bmi\", \"children\"]),\n",
    "    (OneHotEncoder(handle_unknown=\"ignore\"), [\"sex\", \"smoker\", \"region\"])\n",
    ")"
   ]
  },
  {
   "cell_type": "code",
   "execution_count": 4,
   "id": "90beaf2c",
   "metadata": {
    "execution": {
     "iopub.execute_input": "2023-03-08T12:46:05.047992Z",
     "iopub.status.busy": "2023-03-08T12:46:05.047080Z",
     "iopub.status.idle": "2023-03-08T12:46:05.058181Z",
     "shell.execute_reply": "2023-03-08T12:46:05.057287Z"
    },
    "papermill": {
     "duration": 0.021433,
     "end_time": "2023-03-08T12:46:05.060727",
     "exception": false,
     "start_time": "2023-03-08T12:46:05.039294",
     "status": "completed"
    },
    "tags": []
   },
   "outputs": [],
   "source": [
    "#Create X and y\n",
    "X = insurance.drop(\"charges\", axis=1)\n",
    "y = insurance[\"charges\"]"
   ]
  },
  {
   "cell_type": "code",
   "execution_count": 5,
   "id": "935a6665",
   "metadata": {
    "execution": {
     "iopub.execute_input": "2023-03-08T12:46:05.075169Z",
     "iopub.status.busy": "2023-03-08T12:46:05.074497Z",
     "iopub.status.idle": "2023-03-08T12:46:05.082928Z",
     "shell.execute_reply": "2023-03-08T12:46:05.082043Z"
    },
    "papermill": {
     "duration": 0.018521,
     "end_time": "2023-03-08T12:46:05.085381",
     "exception": false,
     "start_time": "2023-03-08T12:46:05.066860",
     "status": "completed"
    },
    "tags": []
   },
   "outputs": [],
   "source": [
    "#Build our train and test sets\n",
    "X_train, X_test, y_train, y_test = train_test_split(X, y, test_size=0.2, random_state=42)"
   ]
  },
  {
   "cell_type": "code",
   "execution_count": 6,
   "id": "6250cfa4",
   "metadata": {
    "execution": {
     "iopub.execute_input": "2023-03-08T12:46:05.099657Z",
     "iopub.status.busy": "2023-03-08T12:46:05.098979Z",
     "iopub.status.idle": "2023-03-08T12:46:05.123762Z",
     "shell.execute_reply": "2023-03-08T12:46:05.122512Z"
    },
    "papermill": {
     "duration": 0.03489,
     "end_time": "2023-03-08T12:46:05.126444",
     "exception": false,
     "start_time": "2023-03-08T12:46:05.091554",
     "status": "completed"
    },
    "tags": []
   },
   "outputs": [
    {
     "data": {
      "text/plain": [
       "ColumnTransformer(transformers=[('minmaxscaler', MinMaxScaler(),\n",
       "                                 ['age', 'bmi', 'children']),\n",
       "                                ('onehotencoder',\n",
       "                                 OneHotEncoder(handle_unknown='ignore'),\n",
       "                                 ['sex', 'smoker', 'region'])])"
      ]
     },
     "execution_count": 6,
     "metadata": {},
     "output_type": "execute_result"
    }
   ],
   "source": [
    "#Fit the column transofmer to our training data\n",
    "ct.fit(X_train)"
   ]
  },
  {
   "cell_type": "code",
   "execution_count": 7,
   "id": "2524bef8",
   "metadata": {
    "execution": {
     "iopub.execute_input": "2023-03-08T12:46:05.141192Z",
     "iopub.status.busy": "2023-03-08T12:46:05.140507Z",
     "iopub.status.idle": "2023-03-08T12:46:05.156169Z",
     "shell.execute_reply": "2023-03-08T12:46:05.154963Z"
    },
    "papermill": {
     "duration": 0.026377,
     "end_time": "2023-03-08T12:46:05.159168",
     "exception": false,
     "start_time": "2023-03-08T12:46:05.132791",
     "status": "completed"
    },
    "tags": []
   },
   "outputs": [],
   "source": [
    "#Transform training and test data with normalization (MinMAxScaler) and OneHotEncoder\n",
    "X_train_normal = ct.transform(X_train)\n",
    "X_test_normal = ct.transform(X_test)"
   ]
  },
  {
   "cell_type": "code",
   "execution_count": 8,
   "id": "fc085a5a",
   "metadata": {
    "execution": {
     "iopub.execute_input": "2023-03-08T12:46:05.173409Z",
     "iopub.status.busy": "2023-03-08T12:46:05.172985Z",
     "iopub.status.idle": "2023-03-08T12:46:05.183363Z",
     "shell.execute_reply": "2023-03-08T12:46:05.182204Z"
    },
    "papermill": {
     "duration": 0.020394,
     "end_time": "2023-03-08T12:46:05.185895",
     "exception": false,
     "start_time": "2023-03-08T12:46:05.165501",
     "status": "completed"
    },
    "tags": []
   },
   "outputs": [
    {
     "data": {
      "text/plain": [
       "age               19.0\n",
       "sex                0.0\n",
       "bmi               27.9\n",
       "children           0.0\n",
       "smoker             1.0\n",
       "region             3.0\n",
       "insuranceclaim     1.0\n",
       "Name: 0, dtype: float64"
      ]
     },
     "execution_count": 8,
     "metadata": {},
     "output_type": "execute_result"
    }
   ],
   "source": [
    "#How does it look like ORIGINAL\n",
    "X_train.loc[0]"
   ]
  },
  {
   "cell_type": "code",
   "execution_count": 9,
   "id": "14a64fef",
   "metadata": {
    "execution": {
     "iopub.execute_input": "2023-03-08T12:46:05.202589Z",
     "iopub.status.busy": "2023-03-08T12:46:05.201485Z",
     "iopub.status.idle": "2023-03-08T12:46:05.208813Z",
     "shell.execute_reply": "2023-03-08T12:46:05.207610Z"
    },
    "papermill": {
     "duration": 0.019194,
     "end_time": "2023-03-08T12:46:05.211459",
     "exception": false,
     "start_time": "2023-03-08T12:46:05.192265",
     "status": "completed"
    },
    "tags": []
   },
   "outputs": [
    {
     "data": {
      "text/plain": [
       "array([0.60869565, 0.10734463, 0.4       , 1.        , 0.        ,\n",
       "       1.        , 0.        , 0.        , 1.        , 0.        ,\n",
       "       0.        ])"
      ]
     },
     "execution_count": 9,
     "metadata": {},
     "output_type": "execute_result"
    }
   ],
   "source": [
    "#How does it look like CT´ed\n",
    "X_train_normal[0]"
   ]
  },
  {
   "cell_type": "code",
   "execution_count": 10,
   "id": "a7603bef",
   "metadata": {
    "execution": {
     "iopub.execute_input": "2023-03-08T12:46:05.226844Z",
     "iopub.status.busy": "2023-03-08T12:46:05.226391Z",
     "iopub.status.idle": "2023-03-08T12:46:05.233581Z",
     "shell.execute_reply": "2023-03-08T12:46:05.232453Z"
    },
    "papermill": {
     "duration": 0.017764,
     "end_time": "2023-03-08T12:46:05.235989",
     "exception": false,
     "start_time": "2023-03-08T12:46:05.218225",
     "status": "completed"
    },
    "tags": []
   },
   "outputs": [
    {
     "data": {
      "text/plain": [
       "((1070, 7), (1070, 11))"
      ]
     },
     "execution_count": 10,
     "metadata": {},
     "output_type": "execute_result"
    }
   ],
   "source": [
    "#Shape check\n",
    "X_train.shape, X_train_normal.shape"
   ]
  },
  {
   "cell_type": "markdown",
   "id": "012ddeb7",
   "metadata": {
    "papermill": {
     "duration": 0.006585,
     "end_time": "2023-03-08T12:46:05.249144",
     "exception": false,
     "start_time": "2023-03-08T12:46:05.242559",
     "status": "completed"
    },
    "tags": []
   },
   "source": [
    "Model_1 - no assigned activators"
   ]
  },
  {
   "cell_type": "code",
   "execution_count": 11,
   "id": "7bb6bf84",
   "metadata": {
    "execution": {
     "iopub.execute_input": "2023-03-08T12:46:05.271469Z",
     "iopub.status.busy": "2023-03-08T12:46:05.271038Z",
     "iopub.status.idle": "2023-03-08T12:46:11.973138Z",
     "shell.execute_reply": "2023-03-08T12:46:11.971980Z"
    },
    "papermill": {
     "duration": 6.717308,
     "end_time": "2023-03-08T12:46:11.975785",
     "exception": false,
     "start_time": "2023-03-08T12:46:05.258477",
     "status": "completed"
    },
    "tags": []
   },
   "outputs": [
    {
     "data": {
      "text/plain": [
       "<keras.callbacks.History at 0x7fcc1fef1b10>"
      ]
     },
     "execution_count": 11,
     "metadata": {},
     "output_type": "execute_result"
    }
   ],
   "source": [
    "#Set random\n",
    "tf.random.set_seed(42)\n",
    "#callback to stop learning\n",
    "callback = tf.keras.callbacks.EarlyStopping(monitor='loss', patience=25)\n",
    "\n",
    "#Create a model\n",
    "insurance_norm_model_1 = tf.keras.Sequential([\n",
    "    tf.keras.layers.Dense(100),\n",
    "    tf.keras.layers.Dense(10),\n",
    "    tf.keras.layers.Dense(1)\n",
    "])\n",
    "\n",
    "#Compile the model\n",
    "insurance_norm_model_1.compile(loss=tf.keras.losses.mae,\n",
    "                             optimizer=tf.keras.optimizers.Adam(learning_rate=0.1),\n",
    "                             metrics=[\"mae\"])\n",
    "\n",
    "#Fit the model\n",
    "insurance_norm_model_1.fit(X_train_normal, y_train, epochs=100, verbose = 0)"
   ]
  },
  {
   "cell_type": "code",
   "execution_count": 12,
   "id": "e7e622f1",
   "metadata": {
    "execution": {
     "iopub.execute_input": "2023-03-08T12:46:11.991767Z",
     "iopub.status.busy": "2023-03-08T12:46:11.990595Z",
     "iopub.status.idle": "2023-03-08T12:46:12.218544Z",
     "shell.execute_reply": "2023-03-08T12:46:12.217306Z"
    },
    "papermill": {
     "duration": 0.23869,
     "end_time": "2023-03-08T12:46:12.221229",
     "exception": false,
     "start_time": "2023-03-08T12:46:11.982539",
     "status": "completed"
    },
    "tags": []
   },
   "outputs": [
    {
     "name": "stdout",
     "output_type": "stream",
     "text": [
      "9/9 [==============================] - 0s 2ms/step - loss: 3276.2678 - mae: 3276.2678\n"
     ]
    },
    {
     "data": {
      "text/plain": [
       "[3276.267822265625, 3276.267822265625]"
      ]
     },
     "execution_count": 12,
     "metadata": {},
     "output_type": "execute_result"
    }
   ],
   "source": [
    "#Evaluate our insurance model tried on normalized data\n",
    "insurance_norm_model_1.evaluate(X_test_normal, y_test)\n",
    "\n",
    "#mae is ~3200!!!!"
   ]
  },
  {
   "cell_type": "code",
   "execution_count": 13,
   "id": "c2a01dda",
   "metadata": {
    "execution": {
     "iopub.execute_input": "2023-03-08T12:46:12.237564Z",
     "iopub.status.busy": "2023-03-08T12:46:12.237129Z",
     "iopub.status.idle": "2023-03-08T12:46:12.426808Z",
     "shell.execute_reply": "2023-03-08T12:46:12.425412Z"
    },
    "papermill": {
     "duration": 0.201558,
     "end_time": "2023-03-08T12:46:12.429977",
     "exception": false,
     "start_time": "2023-03-08T12:46:12.228419",
     "status": "completed"
    },
    "tags": []
   },
   "outputs": [
    {
     "name": "stdout",
     "output_type": "stream",
     "text": [
      "9/9 [==============================] - 0s 2ms/step\n"
     ]
    }
   ],
   "source": [
    "#predict with model_1\n",
    "pred_norm_model_1 = insurance_norm_model_1.predict(X_test_normal)"
   ]
  },
  {
   "cell_type": "code",
   "execution_count": 14,
   "id": "bb09bdbf",
   "metadata": {
    "execution": {
     "iopub.execute_input": "2023-03-08T12:46:12.446614Z",
     "iopub.status.busy": "2023-03-08T12:46:12.446171Z",
     "iopub.status.idle": "2023-03-08T12:46:12.757969Z",
     "shell.execute_reply": "2023-03-08T12:46:12.756703Z"
    },
    "papermill": {
     "duration": 0.323543,
     "end_time": "2023-03-08T12:46:12.760782",
     "exception": false,
     "start_time": "2023-03-08T12:46:12.437239",
     "status": "completed"
    },
    "tags": []
   },
   "outputs": [
    {
     "name": "stdout",
     "output_type": "stream",
     "text": [
      "Correlation coefficient:  0.7263076608246916\n",
      "Mean Absolute Error:  3276.2680238042158\n",
      "R2 score:  0.7263076608246916\n"
     ]
    },
    {
     "data": {
      "image/png": "[encoded data removed]",
      "text/plain": [
       "<Figure size 640x480 with 1 Axes>"
      ]
     },
     "metadata": {},
     "output_type": "display_data"
    }
   ],
   "source": [
    "#Visual of prediction vs original data set\n",
    "plt.scatter(y_test, y_test, color='red', label='Original Charges')\n",
    "plt.scatter(y_test, pred_norm_model_1, color='blue', label='Predicted Charges')\n",
    "plt.xlabel(\"Original Charges\", c=\"r\")\n",
    "plt.ylabel(\"Predicted Charges\", c=\"b\")\n",
    "plt.plot(y_test, y_test, color='green')\n",
    "r = r2_score(y_test, pred_norm_model_1)\n",
    "print(\"Correlation coefficient: \", r)\n",
    "mae = mean_absolute_error(y_test, pred_norm_model_1)\n",
    "print(\"Mean Absolute Error: \", mae)\n",
    "r2 = r2_score(y_test, pred_norm_model_1)\n",
    "print(\"R2 score: \", r2)"
   ]
  },
  {
   "cell_type": "markdown",
   "id": "9c16ff01",
   "metadata": {
    "papermill": {
     "duration": 0.007594,
     "end_time": "2023-03-08T12:46:12.776377",
     "exception": false,
     "start_time": "2023-03-08T12:46:12.768783",
     "status": "completed"
    },
    "tags": []
   },
   "source": [
    "Model_2 - with assigned activators"
   ]
  },
  {
   "cell_type": "code",
   "execution_count": 15,
   "id": "3b7b22f8",
   "metadata": {
    "execution": {
     "iopub.execute_input": "2023-03-08T12:46:12.794499Z",
     "iopub.status.busy": "2023-03-08T12:46:12.793340Z",
     "iopub.status.idle": "2023-03-08T12:46:16.466591Z",
     "shell.execute_reply": "2023-03-08T12:46:16.465428Z"
    },
    "papermill": {
     "duration": 3.685398,
     "end_time": "2023-03-08T12:46:16.469564",
     "exception": false,
     "start_time": "2023-03-08T12:46:12.784166",
     "status": "completed"
    },
    "tags": []
   },
   "outputs": [],
   "source": [
    "#Prep\n",
    "tf.random.set_seed(42)\n",
    "callback = tf.keras.callbacks.EarlyStopping(monitor='loss', patience=10)\n",
    "\n",
    "#Create mode based on model_3\n",
    "insurance_model_3_norm = tf.keras.Sequential([\n",
    "    tf.keras.layers.Dense(100, activation='relu'),\n",
    "    tf.keras.layers.Dense(10, activation = 'relu'),\n",
    "    tf.keras.layers.Dense(1)\n",
    "])\n",
    "\n",
    "#Compile the model\n",
    "insurance_model_3_norm.compile(loss=tf.keras.losses.mae,\n",
    "                          optimizer=tf.keras.optimizers.Adam(learning_rate=0.1),\n",
    "                          metrics =[\"mae\"])\n",
    "\n",
    "#Fit the model\n",
    "history_3_norm = insurance_model_3_norm.fit(X_train_normal, y_train, epochs=500, verbose=0, callbacks=[callback])"
   ]
  },
  {
   "cell_type": "code",
   "execution_count": 16,
   "id": "7bee7f45",
   "metadata": {
    "execution": {
     "iopub.execute_input": "2023-03-08T12:46:16.488000Z",
     "iopub.status.busy": "2023-03-08T12:46:16.486724Z",
     "iopub.status.idle": "2023-03-08T12:46:16.688024Z",
     "shell.execute_reply": "2023-03-08T12:46:16.686629Z"
    },
    "papermill": {
     "duration": 0.213192,
     "end_time": "2023-03-08T12:46:16.690725",
     "exception": false,
     "start_time": "2023-03-08T12:46:16.477533",
     "status": "completed"
    },
    "tags": []
   },
   "outputs": [
    {
     "name": "stdout",
     "output_type": "stream",
     "text": [
      "9/9 [==============================] - 0s 2ms/step - loss: 1866.7959 - mae: 1866.7959\n"
     ]
    },
    {
     "data": {
      "text/plain": [
       "[1866.7958984375, 1866.7958984375]"
      ]
     },
     "execution_count": 16,
     "metadata": {},
     "output_type": "execute_result"
    }
   ],
   "source": [
    "#Evaluate model_3_norm\n",
    "insurance_model_3_norm.evaluate(X_test_normal, y_test)\n",
    "\n",
    "#mae: ~1800!!!"
   ]
  },
  {
   "cell_type": "code",
   "execution_count": 17,
   "id": "8d5ab08a",
   "metadata": {
    "execution": {
     "iopub.execute_input": "2023-03-08T12:46:16.708466Z",
     "iopub.status.busy": "2023-03-08T12:46:16.707996Z",
     "iopub.status.idle": "2023-03-08T12:46:16.882923Z",
     "shell.execute_reply": "2023-03-08T12:46:16.881907Z"
    },
    "papermill": {
     "duration": 0.187176,
     "end_time": "2023-03-08T12:46:16.885937",
     "exception": false,
     "start_time": "2023-03-08T12:46:16.698761",
     "status": "completed"
    },
    "tags": []
   },
   "outputs": [
    {
     "name": "stdout",
     "output_type": "stream",
     "text": [
      "9/9 [==============================] - 0s 2ms/step\n"
     ]
    }
   ],
   "source": [
    "#predict with the model with activation\n",
    "pred = insurance_model_3_norm.predict(X_test_normal)"
   ]
  },
  {
   "cell_type": "code",
   "execution_count": 18,
   "id": "26802e7d",
   "metadata": {
    "execution": {
     "iopub.execute_input": "2023-03-08T12:46:16.904737Z",
     "iopub.status.busy": "2023-03-08T12:46:16.904287Z",
     "iopub.status.idle": "2023-03-08T12:46:17.186566Z",
     "shell.execute_reply": "2023-03-08T12:46:17.185492Z"
    },
    "papermill": {
     "duration": 0.294594,
     "end_time": "2023-03-08T12:46:17.189055",
     "exception": false,
     "start_time": "2023-03-08T12:46:16.894461",
     "status": "completed"
    },
    "tags": []
   },
   "outputs": [
    {
     "name": "stdout",
     "output_type": "stream",
     "text": [
      "Correlation coefficient:  0.8610621356022087\n",
      "Mean Absolute Error:  1866.796079351154\n",
      "R2 score:  0.8610621356022087\n"
     ]
    },
    {
     "data": {
      "image/png": "[encoded data removed]",
      "text/plain": [
       "<Figure size 640x480 with 1 Axes>"
      ]
     },
     "metadata": {},
     "output_type": "display_data"
    }
   ],
   "source": [
    "\n",
    "#Visual of prediction vs original data set\n",
    "plt.scatter(y_test, y_test, color='red', label='Original Charges')\n",
    "plt.scatter(y_test, pred, color='blue', label='Predicted Charges')\n",
    "plt.xlabel(\"Original Charges\", c=\"r\")\n",
    "plt.ylabel(\"Predicted Charges\", c=\"b\")\n",
    "plt.plot(y_test, y_test, color='green')\n",
    "r = r2_score(y_test, pred)\n",
    "print(\"Correlation coefficient: \", r)\n",
    "mae = mean_absolute_error(y_test, pred)\n",
    "print(\"Mean Absolute Error: \", mae)\n",
    "r2 = r2_score(y_test, pred)\n",
    "print(\"R2 score: \", r2)"
   ]
  },
  {
   "cell_type": "code",
   "execution_count": null,
   "id": "12b7264c",
   "metadata": {
    "papermill": {
     "duration": 0.009432,
     "end_time": "2023-03-08T12:46:17.207897",
     "exception": false,
     "start_time": "2023-03-08T12:46:17.198465",
     "status": "completed"
    },
    "tags": []
   },
   "outputs": [],
   "source": []
  }
 ],
 "metadata": {
  "kernelspec": {
   "display_name": "Python 3",
   "language": "python",
   "name": "python3"
  },
  "language_info": {
   "codemirror_mode": {
    "name": "ipython",
    "version": 3
   },
   "file_extension": ".py",
   "mimetype": "text/x-python",
   "name": "python",
   "nbconvert_exporter": "python",
   "pygments_lexer": "ipython3",
   "version": "3.7.12"
  },
  "papermill": {
   "default_parameters": {},
   "duration": 35.742404,
   "end_time": "2023-03-08T12:46:20.596141",
   "environment_variables": {},
   "exception": null,
   "input_path": "__notebook__.ipynb",
   "output_path": "__notebook__.ipynb",
   "parameters": {},
   "start_time": "2023-03-08T12:45:44.853737",
   "version": "2.4.0"
  }
 },
 "nbformat": 4,
 "nbformat_minor": 5
}
